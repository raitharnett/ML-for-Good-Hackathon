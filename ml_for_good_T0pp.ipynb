{
 "cells": [
  {
   "cell_type": "markdown",
   "metadata": {
    "colab_type": "text",
    "id": "view-in-github"
   },
   "source": [
    "<a href=\"https://colab.research.google.com/github/raitharnett/ML-for-Good-Hackathon-1/blob/main/ml_for_good.ipynb\" target=\"_parent\"><img src=\"https://colab.research.google.com/assets/colab-badge.svg\" alt=\"Open In Colab\"/></a>"
   ]
  },
  {
   "cell_type": "markdown",
   "metadata": {
    "id": "Qv0f_vw8SH_Q"
   },
   "source": [
    "# ML-for-Good-Hackathon submission\n",
    "## Team: 6\n",
    "## Team members: \n",
    "\n",
    "1.   Balasubramanian, Karthik\n",
    "2.   Harnett, Rait\n",
    "3.   Jones, Ben\n",
    "4.   Kozin, Igor N\n",
    "5.   Loffredo, Dom\n",
    "\n",
    "# Overview\n",
    "\n",
    "Our approach was to investigate well known techniques to visualize the Child Mind Institute data. We focused on the description parts on a selection of the data:\n",
    "\n",
    "*   CrisisLogger: `Data/CrisisLogger/crisislogger.csv`\n",
    "*   ProlificAcademic: `Data/ProlificAcademic/updated_data/April_21/CRISIS_Adult_April_2021.csv`, `Data/ProlificAcademic/updated_data/April_21/CRISIS_Parent_April_2021.csv`\n",
    "\n",
    "We show how we used the following techniques:\n",
    "\n",
    "*   Clustering documents with TFIDF and KMeans.\n",
    "*   A word cloud generator.\n",
    "*   BERT pre-trained model to predict sentiment.\n",
    "*   Using ``spaCy`` to analyze transcriptions in the CrisisLogger data.\n",
    "\n",
    "\n",
    "\n",
    "\n",
    "\n",
    "\n"
   ]
  },
  {
   "cell_type": "markdown",
   "metadata": {
    "id": "zkCDcYd3fcrj"
   },
   "source": [
    "# Testing usability of T0pp pretrained model\n",
    "\n",
    "https://huggingface.co/bigscience/T0pp\n",
    "https://huggingface.co/transformers/installation.html\n",
    "\n",
    "T0* shows zero-shot task generalization on English natural language prompts, outperforming GPT-3 on many tasks, while being 16x smaller. It is a series of encoder-decoder models trained on a large set of different tasks specified in natural language prompts. We convert numerous English supervised datasets into prompts, each with multiple templates using varying formulations. These prompted datasets allow for benchmarking the ability of a model to perform completely unseen tasks specified in natural language. To obtain T0*, we fine-tune a pretrained language model on this multitask mixture covering many different NLP tasks.\n",
    "\n",
    "The model was still too large load on a single GPU so we run it on CPU. It took under 47GB RAM and it run slower for obvious reasons but still it might be a viable option for batch processing. A single query takes a few seconds depending on the output. Our tests showed that while the model is indeed very powerful in dealing with free form texts the output needs to be carefully cross-examined and validated."
   ]
  },
  {
   "cell_type": "code",
   "execution_count": 27,
   "metadata": {},
   "outputs": [
    {
     "name": "stdout",
     "output_type": "stream",
     "text": [
      "huggingface/tokenizers: The current process just got forked, after parallelism has already been used. Disabling parallelism to avoid deadlocks...\n",
      "To disable this warning, you can either:\n",
      "\t- Avoid using `tokenizers` before the fork if possible\n",
      "\t- Explicitly set the environment variable TOKENIZERS_PARALLELISM=(true | false)\n",
      "huggingface/tokenizers: The current process just got forked, after parallelism has already been used. Disabling parallelism to avoid deadlocks...\n",
      "To disable this warning, you can either:\n",
      "\t- Avoid using `tokenizers` before the fork if possible\n",
      "\t- Explicitly set the environment variable TOKENIZERS_PARALLELISM=(true | false)\n"
     ]
    },
    {
     "name": "stderr",
     "output_type": "stream",
     "text": [
      "Matplotlib is building the font cache; this may take a moment.\n"
     ]
    }
   ],
   "source": [
    "import pandas as pd\n",
    "from transformers import AutoTokenizer, AutoModelForSeq2SeqLM\n",
    "import matplotlib.pyplot as plt\n",
    "import matplotlib.cm as cm"
   ]
  },
  {
   "cell_type": "code",
   "execution_count": 2,
   "metadata": {},
   "outputs": [],
   "source": [
    "#tokenizer = AutoTokenizer.from_pretrained(\"bigscience/T0pp\")\n",
    "tokenizer = AutoTokenizer.from_pretrained(\"/data/data1/NLP/bigscience/T0pp\", cache_dir=\"/data/data1/NLP\")"
   ]
  },
  {
   "cell_type": "code",
   "execution_count": 3,
   "metadata": {},
   "outputs": [],
   "source": [
    "#model = AutoModelForSeq2SeqLM.from_pretrained(\"bigscience/T0pp\")\n",
    "model = AutoModelForSeq2SeqLM.from_pretrained(\"/data/data1/NLP/bigscience/T0pp\", cache_dir=\"/data/data1/NLP\")"
   ]
  },
  {
   "cell_type": "code",
   "execution_count": 4,
   "metadata": {
    "id": "X_PR18hcfPq4"
   },
   "outputs": [
    {
     "name": "stderr",
     "output_type": "stream",
     "text": [
      "/home/ink/conda3/envs/pt110cpu/lib/python3.7/site-packages/IPython/core/interactiveshell.py:3444: DtypeWarning: Columns (5,77,78) have mixed types.Specify dtype option on import or set low_memory=False.\n",
      "  exec(code_obj, self.user_global_ns, self.user_ns)\n"
     ]
    }
   ],
   "source": [
    "crisisLoggerDf = pd.read_csv(\"Data/CrisisLogger/crisislogger.csv\")"
   ]
  },
  {
   "cell_type": "code",
   "execution_count": 34,
   "metadata": {
    "id": "2LNsW93l96ZX"
   },
   "outputs": [],
   "source": [
    "# mapping of prediction values to readable sentiment values\n",
    "sentiment_map = { 0:'negative', 1:'positive', 2:'unknown'}\n",
    "color_map = ['#d9534f','#5bc0de','#5cb85c']\n",
    "def sentiment_score(transcription):\n",
    "  if (not transcription) or pd.isnull(transcription):\n",
    "    return sentiment_map[2]\n",
    "  input = \"Is this sentiment positive or negative? \" + transcription\n",
    "  if len(input) > 2252:\n",
    "    input = input[:2252]\n",
    "  tokens =  tokenizer.encode(input, return_tensors=\"pt\")\n",
    "  output =  tokenizer.decode( model.generate(tokens)[0] )\n",
    "  if sentiment_map[0] in output:\n",
    "    return sentiment_map[0]\n",
    "  elif sentiment_map[1] in output:\n",
    "    return sentiment_map[1]\n",
    "  else:\n",
    "    return sentiment_map[2]"
   ]
  },
  {
   "cell_type": "code",
   "execution_count": null,
   "metadata": {},
   "outputs": [],
   "source": []
  },
  {
   "cell_type": "code",
   "execution_count": 36,
   "metadata": {
    "colab": {
     "base_uri": "https://localhost:8080/",
     "height": 324
    },
    "id": "5S3tZP4YUl3S",
    "outputId": "793074ed-baf5-43a9-a281-914c02f50001"
   },
   "outputs": [
    {
     "data": {
      "text/plain": [
       "<AxesSubplot:xlabel='sentiment'>"
      ]
     },
     "execution_count": 36,
     "metadata": {},
     "output_type": "execute_result"
    },
    {
     "data": {
      "image/png": "[encoded data removed]",
      "text/plain": [
       "<Figure size 432x288 with 1 Axes>"
      ]
     },
     "metadata": {
      "needs_background": "light"
     },
     "output_type": "display_data"
    }
   ],
   "source": [
    "crisisLoggerDf['sentiment'] = crisisLoggerDf['transcriptions'].apply(lambda t: sentiment_score(t))\n",
    "crisisLoggerDf.groupby('sentiment')['transcriptions'].count().plot(kind='bar',color=color_map)"
   ]
  },
  {
   "cell_type": "code",
   "execution_count": 55,
   "metadata": {},
   "outputs": [],
   "source": [
    "# Sentiment value counts of descriptive columns of April_21/CRISIS_Adult_April_2021\n",
    "# test on a sample  nrows=9\n",
    "#\n",
    "#adultApril2021Df = pd.read_csv(\"Data/ProlificAcademic/updated_data/April_21/CRISIS_Adult_April_2021.csv\")\n",
    "#parentApril2021Df = pd.read_csv(\"Data/ProlificAcademic/updated_data/April_21/CRISIS_Parent_April_2021.csv\")"
   ]
  },
  {
   "cell_type": "code",
   "execution_count": 56,
   "metadata": {},
   "outputs": [],
   "source": [
    "sample = pd.read_csv(\"Data/ProlificAcademic/updated_data/April_21/CRISIS_Parent_April_2021.csv\", nrows=100)"
   ]
  },
  {
   "cell_type": "code",
   "execution_count": 57,
   "metadata": {},
   "outputs": [
    {
     "data": {
      "text/plain": [
       "(100, 339)"
      ]
     },
     "execution_count": 57,
     "metadata": {},
     "output_type": "execute_result"
    }
   ],
   "source": [
    "sample.shape"
   ]
  },
  {
   "cell_type": "code",
   "execution_count": 58,
   "metadata": {},
   "outputs": [
    {
     "data": {
      "image/png": "[encoded data removed]",
      "text/plain": [
       "<Figure size 1080x1080 with 3 Axes>"
      ]
     },
     "metadata": {
      "needs_background": "light"
     },
     "output_type": "display_data"
    }
   ],
   "source": [
    "parentApril2021DescriptiveColumns = ['challenges', 'benefits', 'anything_else']\n",
    "fig, axs = plt.subplots(nrows=len(parentApril2021DescriptiveColumns), figsize=(15,15))\n",
    "fig.suptitle(\"Sentiment value counts of descriptive columns of April_21/CRISIS_Adult_April_2021\", fontsize=18)\n",
    "plt.subplots_adjust(hspace=0.50)\n",
    "for index, column in enumerate(parentApril2021DescriptiveColumns):\n",
    "  sentiment_column = f'sentiment_{column}'\n",
    "  sample[sentiment_column] = sample[column].apply(lambda t: sentiment_score(t))\n",
    "  sample.groupby(sentiment_column)[column].count().plot(kind='bar',color=color_map, ax=axs[index], xlabel=sentiment_column, fontsize=12)"
   ]
  },
  {
   "cell_type": "code",
   "execution_count": null,
   "metadata": {},
   "outputs": [],
   "source": []
  }
 ],
 "metadata": {
  "colab": {
   "authorship_tag": "ABX9TyOo5jj2oo+4vKmbY8HFbbog",
   "collapsed_sections": [],
   "include_colab_link": true,
   "name": "ml-for-good.ipynb",
   "provenance": [],
   "toc_visible": true
  },
  "kernelspec": {
   "display_name": "Python 3 (ipykernel)",
   "language": "python",
   "name": "python3"
  },
  "language_info": {
   "codemirror_mode": {
    "name": "ipython",
    "version": 3
   },
   "file_extension": ".py",
   "mimetype": "text/x-python",
   "name": "python",
   "nbconvert_exporter": "python",
   "pygments_lexer": "ipython3",
   "version": "3.7.11"
  },
  "widgets": {
   "application/vnd.jupyter.widget-state+json": {
    "830c5e20c7d54b2baa97559cc9e7baea": {
     "model_module": "@jupyter-widgets/controls",
     "model_module_version": "1.5.0",
     "model_name": "BoundedIntTextModel",
     "state": {
      "_dom_classes": [],
      "_model_module": "@jupyter-widgets/controls",
      "_model_module_version": "1.5.0",
      "_model_name": "BoundedIntTextModel",
      "_view_count": null,
      "_view_module": "@jupyter-widgets/controls",
      "_view_module_version": "1.5.0",
      "_view_name": "IntTextView",
      "continuous_update": false,
      "description": "Maximum Clusters to Check:",
      "description_tooltip": null,
      "disabled": false,
      "layout": "IPY_MODEL_f4303f9f529c46be942564d7496a6b35",
      "max": 60,
      "min": 0,
      "step": 1,
      "style": "IPY_MODEL_f8c4481f2907436ab803b6f4fc5ebb3b",
      "value": 26
     }
    },
    "92f630a153144ceabd54db3ac3e41b72": {
     "model_module": "@jupyter-widgets/controls",
     "model_module_version": "1.5.0",
     "model_name": "DescriptionStyleModel",
     "state": {
      "_model_module": "@jupyter-widgets/controls",
      "_model_module_version": "1.5.0",
      "_model_name": "DescriptionStyleModel",
      "_view_count": null,
      "_view_module": "@jupyter-widgets/base",
      "_view_module_version": "1.2.0",
      "_view_name": "StyleView",
      "description_width": ""
     }
    },
    "bd17ca1db7d748f8820ef7537f1d064a": {
     "model_module": "@jupyter-widgets/controls",
     "model_module_version": "1.5.0",
     "model_name": "BoundedIntTextModel",
     "state": {
      "_dom_classes": [],
      "_model_module": "@jupyter-widgets/controls",
      "_model_module_version": "1.5.0",
      "_model_name": "BoundedIntTextModel",
      "_view_count": null,
      "_view_module": "@jupyter-widgets/controls",
      "_view_module_version": "1.5.0",
      "_view_name": "IntTextView",
      "continuous_update": false,
      "description": "Maximum Clusters to Check:",
      "description_tooltip": null,
      "disabled": false,
      "layout": "IPY_MODEL_d2c0f006077141e5a94b44f77be1d76a",
      "max": 60,
      "min": 0,
      "step": 1,
      "style": "IPY_MODEL_92f630a153144ceabd54db3ac3e41b72",
      "value": 8
     }
    },
    "d2c0f006077141e5a94b44f77be1d76a": {
     "model_module": "@jupyter-widgets/base",
     "model_module_version": "1.2.0",
     "model_name": "LayoutModel",
     "state": {
      "_model_module": "@jupyter-widgets/base",
      "_model_module_version": "1.2.0",
      "_model_name": "LayoutModel",
      "_view_count": null,
      "_view_module": "@jupyter-widgets/base",
      "_view_module_version": "1.2.0",
      "_view_name": "LayoutView",
      "align_content": null,
      "align_items": null,
      "align_self": null,
      "border": null,
      "bottom": null,
      "display": null,
      "flex": null,
      "flex_flow": null,
      "grid_area": null,
      "grid_auto_columns": null,
      "grid_auto_flow": null,
      "grid_auto_rows": null,
      "grid_column": null,
      "grid_gap": null,
      "grid_row": null,
      "grid_template_areas": null,
      "grid_template_columns": null,
      "grid_template_rows": null,
      "height": null,
      "justify_content": null,
      "justify_items": null,
      "left": null,
      "margin": null,
      "max_height": null,
      "max_width": null,
      "min_height": null,
      "min_width": null,
      "object_fit": null,
      "object_position": null,
      "order": null,
      "overflow": null,
      "overflow_x": null,
      "overflow_y": null,
      "padding": null,
      "right": null,
      "top": null,
      "visibility": null,
      "width": null
     }
    },
    "f4303f9f529c46be942564d7496a6b35": {
     "model_module": "@jupyter-widgets/base",
     "model_module_version": "1.2.0",
     "model_name": "LayoutModel",
     "state": {
      "_model_module": "@jupyter-widgets/base",
      "_model_module_version": "1.2.0",
      "_model_name": "LayoutModel",
      "_view_count": null,
      "_view_module": "@jupyter-widgets/base",
      "_view_module_version": "1.2.0",
      "_view_name": "LayoutView",
      "align_content": null,
      "align_items": null,
      "align_self": null,
      "border": null,
      "bottom": null,
      "display": null,
      "flex": null,
      "flex_flow": null,
      "grid_area": null,
      "grid_auto_columns": null,
      "grid_auto_flow": null,
      "grid_auto_rows": null,
      "grid_column": null,
      "grid_gap": null,
      "grid_row": null,
      "grid_template_areas": null,
      "grid_template_columns": null,
      "grid_template_rows": null,
      "height": null,
      "justify_content": null,
      "justify_items": null,
      "left": null,
      "margin": null,
      "max_height": null,
      "max_width": null,
      "min_height": null,
      "min_width": null,
      "object_fit": null,
      "object_position": null,
      "order": null,
      "overflow": null,
      "overflow_x": null,
      "overflow_y": null,
      "padding": null,
      "right": null,
      "top": null,
      "visibility": null,
      "width": null
     }
    },
    "f8c4481f2907436ab803b6f4fc5ebb3b": {
     "model_module": "@jupyter-widgets/controls",
     "model_module_version": "1.5.0",
     "model_name": "DescriptionStyleModel",
     "state": {
      "_model_module": "@jupyter-widgets/controls",
      "_model_module_version": "1.5.0",
      "_model_name": "DescriptionStyleModel",
      "_view_count": null,
      "_view_module": "@jupyter-widgets/base",
      "_view_module_version": "1.2.0",
      "_view_name": "StyleView",
      "description_width": ""
     }
    }
   }
  }
 },
 "nbformat": 4,
 "nbformat_minor": 1
}
